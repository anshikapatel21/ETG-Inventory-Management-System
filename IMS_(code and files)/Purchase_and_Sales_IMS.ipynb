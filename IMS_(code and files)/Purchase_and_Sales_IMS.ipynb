{
  "nbformat": 4,
  "nbformat_minor": 0,
  "metadata": {
    "colab": {
      "name": "Purchase_and_Sales_IMS.ipynb",
      "provenance": [],
      "collapsed_sections": []
    },
    "kernelspec": {
      "name": "python3",
      "display_name": "Python 3"
    },
    "language_info": {
      "name": "python"
    }
  },
  "cells": [
    {
      "cell_type": "markdown",
      "metadata": {
        "id": "_tWycGL_O4T2"
      },
      "source": [
        "Reading data\n"
      ]
    },
    {
      "cell_type": "code",
      "metadata": {
        "id": "InCSmiy8NRwA"
      },
      "source": [
        "import json\n",
        "fd = open(\"records.json\",\"r\")\n",
        "r = fd.read()\n",
        "fd.close()\n",
        "\n",
        "records = json.loads(r)"
      ],
      "execution_count": 85,
      "outputs": []
    },
    {
      "cell_type": "markdown",
      "metadata": {
        "id": "_GlmG0rPenZ2"
      },
      "source": [
        "Purchasing Product"
      ]
    },
    {
      "cell_type": "code",
      "metadata": {
        "id": "L-CQRiAKNTEK",
        "colab": {
          "base_uri": "https://localhost:8080/"
        },
        "outputId": "79877841-99af-464b-a1a8-a12aa5dde787"
      },
      "source": [
        "prod_id =input(\"Enter the Product ID : \")\n",
        "qt = input(\"Enter quantity : \")\n",
        "\n",
        "for i in records.keys():\n",
        "    while prod_id == i:\n",
        "        if qt <= records[i]['quant']:\n",
        "           print(\"****************************************\")\n",
        "           print(\"Product name:\",records[prod_id]['pr_name'])\n",
        "           print(\"Price of product:\",records[prod_id]['price'])\n",
        "           print(\"Mfg Date:\",records[prod_id]['mfg_date'])\n",
        "           print(\"Expiry Date:\",records[prod_id]['exp_date'])\n",
        "           print(\"****************************************\")\n",
        "           print(\"**************BILL*************\")\n",
        "           print(\"Total: \",records[prod_id]['price']*int(qt)) \n",
        "           print(\"Thanking you\")\n",
        "           print(\"**********************************\")\n",
        "        elif prod_id not in records.keys():\n",
        "           print(\"Invalid ID: \",\"Enter valid ID of product\")\n",
        "        else:\n",
        "           print(\"Sorry this product is out of stock\")\n",
        "        break\n",
        "        records[prod_id][\"quant\"] = records[prod_id][\"quant\"] - int(qt)\n",
        "js = json.dumps(records)\n",
        "\n",
        "fd = open(\"records.json\",'w')\n",
        "fd.write(js)\n",
        "fd.close()"
      ],
      "execution_count": 100,
      "outputs": [
        {
          "output_type": "stream",
          "name": "stdout",
          "text": [
            "Enter the Product ID : 1008\n",
            "Enter quantity : 1\n",
            "****************************************\n",
            "Product name: RedBull\n",
            "Price of product: 87\n",
            "Mfg Date: 12.08.21\n",
            "Expiry Date: 12.12.21\n",
            "****************************************\n",
            "**************BILL*************\n",
            "Total:  87\n",
            "Thanking you\n",
            "**********************************\n"
          ]
        }
      ]
    },
    {
      "cell_type": "markdown",
      "metadata": {
        "id": "hY48bW4TerqQ"
      },
      "source": [
        "Sales"
      ]
    },
    {
      "cell_type": "code",
      "metadata": {
        "id": "Uo-LdI4DqZMR"
      },
      "source": [
        "fd = open(\"sales.json\",'r')\n",
        "trans = fd.read()\n",
        "fd.close()"
      ],
      "execution_count": 101,
      "outputs": []
    },
    {
      "cell_type": "code",
      "metadata": {
        "id": "4oEQ_GTMtuC5"
      },
      "source": [
        "sales = json.loads(trans)\n",
        "num = len(sales)+1"
      ],
      "execution_count": 102,
      "outputs": []
    },
    {
      "cell_type": "code",
      "metadata": {
        "id": "JvABUjExtub7"
      },
      "source": [
        "sales = {1:{'pr_id': prod_id, 'quant': qt, 'Bill': records[prod_id]['price'] * int(qt)}}\n",
        "sale = json.dumps(sales)"
      ],
      "execution_count": 103,
      "outputs": []
    },
    {
      "cell_type": "code",
      "metadata": {
        "id": "PjnLC85_uCX5"
      },
      "source": [
        "fd = open(\"sales.json\",'w')\n",
        "fd.write(sale)\n",
        "fd.close()"
      ],
      "execution_count": 104,
      "outputs": []
    },
    {
      "cell_type": "code",
      "metadata": {
        "id": "0QP_B-NvejD_"
      },
      "source": [
        ""
      ],
      "execution_count": null,
      "outputs": []
    }
  ]
}